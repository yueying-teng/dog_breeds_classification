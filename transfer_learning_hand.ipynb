{
 "cells": [
  {
   "cell_type": "code",
   "execution_count": 50,
   "metadata": {},
   "outputs": [],
   "source": [
    "import numpy as np\n",
    "import os\n",
    "\n",
    "import keras \n",
    "from keras.models import Sequential \n",
    "from keras.layers import Dense, Dropout, Activation, Flatten\n",
    "from keras.callbacks import TensorBoard, ModelCheckpoint, ReduceLROnPlateau\n",
    "from keras.layers.pooling import GlobalAveragePooling2D\n"
   ]
  },
  {
   "cell_type": "code",
   "execution_count": null,
   "metadata": {},
   "outputs": [],
   "source": []
  },
  {
   "cell_type": "code",
   "execution_count": 3,
   "metadata": {},
   "outputs": [],
   "source": [
    "def list_dir(directory):\n",
    "    \"\"\"\n",
    "    get all images and labels in directory/label/*.jpg\n",
    "    \"\"\"\n",
    "    \n",
    "    labels = os.listdir(directory)\n",
    "    # sort the labels so that training and testing get them in the same order\n",
    "    labels.sort()\n",
    "    \n",
    "    files_and_labels = []\n",
    "    for label in labels:\n",
    "        if label not in '.DS_Store':\n",
    "            for f in os.listdir(os.path.join(directory, label)):\n",
    "                files_and_labels.append((os.path.join(directory, label, f), label))\n",
    "\n",
    "    filenames, labels = zip(*files_and_labels)\n",
    "    filenames = list(filenames)\n",
    "    labels = list(labels)\n",
    "    unique_labels = list(set(labels))\n",
    "    \n",
    "    label_to_int = {}\n",
    "    for i, label in enumerate(unique_labels):\n",
    "        label_to_int[label] = i\n",
    "    \n",
    "    labels = [label_to_int[l] for l in labels]\n",
    "    \n",
    "    return filenames, labels\n"
   ]
  },
  {
   "cell_type": "code",
   "execution_count": 6,
   "metadata": {},
   "outputs": [],
   "source": [
    "# read the image labels in hte order they are processed in the preprocessing.ipynb\n",
    "\n",
    "file_train, label_train = list_dir('/Users/yueying.teng/Documents/dog_breeds/train')\n",
    "file_test, label_test = list_dir('/Users/yueying.teng/Documents/dog_breeds/test')\n"
   ]
  },
  {
   "cell_type": "code",
   "execution_count": 11,
   "metadata": {},
   "outputs": [],
   "source": [
    "# load bottleneck features \n",
    "\n",
    "feature_train = np.load('bnf_train.npy')\n",
    "feature_test = np.load('bnf_test.npy')\n"
   ]
  },
  {
   "cell_type": "code",
   "execution_count": 12,
   "metadata": {},
   "outputs": [
    {
     "data": {
      "text/plain": [
       "((8177, 7, 7, 512), (2045, 7, 7, 512))"
      ]
     },
     "execution_count": 12,
     "metadata": {},
     "output_type": "execute_result"
    }
   ],
   "source": [
    "feature_train.shape, feature_test.shape"
   ]
  },
  {
   "cell_type": "code",
   "execution_count": 20,
   "metadata": {},
   "outputs": [],
   "source": [
    "# one hot encoded labels  \n",
    "\n",
    "y_train = np.eye(120)[label_train]\n",
    "\n",
    "y_test = np.eye(120)[label_test]\n"
   ]
  },
  {
   "cell_type": "code",
   "execution_count": null,
   "metadata": {},
   "outputs": [],
   "source": []
  },
  {
   "cell_type": "code",
   "execution_count": 43,
   "metadata": {
    "scrolled": true
   },
   "outputs": [
    {
     "name": "stdout",
     "output_type": "stream",
     "text": [
      "_________________________________________________________________\n",
      "Layer (type)                 Output Shape              Param #   \n",
      "=================================================================\n",
      "global_average_pooling2d_3 ( (None, 512)               0         \n",
      "_________________________________________________________________\n",
      "dense_7 (Dense)              (None, 256)               131328    \n",
      "_________________________________________________________________\n",
      "dropout_4 (Dropout)          (None, 256)               0         \n",
      "_________________________________________________________________\n",
      "dense_8 (Dense)              (None, 120)               30840     \n",
      "=================================================================\n",
      "Total params: 162,168\n",
      "Trainable params: 162,168\n",
      "Non-trainable params: 0\n",
      "_________________________________________________________________\n"
     ]
    }
   ],
   "source": [
    "# new model to be trained on bottleneck features \n",
    "\n",
    "new_model = Sequential()\n",
    "\n",
    "new_model.add(GlobalAveragePooling2D(input_shape = feature_train.shape[1:]))\n",
    "\n",
    "new_model.add(Dense(256, activation = 'relu', input_shape = (512, )))\n",
    "new_model.add(Dropout(0.5))\n",
    "new_model.add(Dense(120, activation = 'softmax'))\n",
    "\n",
    "new_model.summary()"
   ]
  },
  {
   "cell_type": "code",
   "execution_count": 56,
   "metadata": {
    "scrolled": true
   },
   "outputs": [
    {
     "name": "stdout",
     "output_type": "stream",
     "text": [
      "Train on 8177 samples, validate on 2045 samples\n",
      "Epoch 1/30\n",
      "8177/8177 [==============================] - 1s 170us/step - loss: 4.3622 - acc: 0.0483 - val_loss: 4.3006 - val_acc: 0.0768\n",
      "\n",
      "Epoch 00001: val_loss improved from inf to 4.30058, saving model to saved_models/handprocess_bestmodel.hdf5\n",
      "Epoch 2/30\n",
      "8177/8177 [==============================] - 1s 104us/step - loss: 4.3633 - acc: 0.0449 - val_loss: 4.3022 - val_acc: 0.0636\n",
      "\n",
      "Epoch 00002: val_loss did not improve from 4.30058\n",
      "Epoch 3/30\n",
      "8177/8177 [==============================] - 1s 114us/step - loss: 4.3523 - acc: 0.0460 - val_loss: 4.2758 - val_acc: 0.0724\n",
      "\n",
      "Epoch 00003: val_loss improved from 4.30058 to 4.27583, saving model to saved_models/handprocess_bestmodel.hdf5\n",
      "Epoch 4/30\n",
      "8177/8177 [==============================] - 1s 115us/step - loss: 4.3412 - acc: 0.0473 - val_loss: 4.3119 - val_acc: 0.0748\n",
      "\n",
      "Epoch 00004: val_loss did not improve from 4.27583\n",
      "Epoch 5/30\n",
      "8177/8177 [==============================] - 1s 115us/step - loss: 4.3364 - acc: 0.0473 - val_loss: 4.2801 - val_acc: 0.0743\n",
      "\n",
      "Epoch 00005: val_loss did not improve from 4.27583\n",
      "Epoch 6/30\n",
      "8177/8177 [==============================] - 1s 108us/step - loss: 4.3416 - acc: 0.0487 - val_loss: 4.3356 - val_acc: 0.0768\n",
      "\n",
      "Epoch 00006: val_loss did not improve from 4.27583\n",
      "Epoch 7/30\n",
      "8177/8177 [==============================] - 1s 113us/step - loss: 4.3339 - acc: 0.0504 - val_loss: 4.3055 - val_acc: 0.0778\n",
      "\n",
      "Epoch 00007: val_loss did not improve from 4.27583\n",
      "Epoch 8/30\n",
      "8177/8177 [==============================] - 1s 114us/step - loss: 4.3342 - acc: 0.0475 - val_loss: 4.2841 - val_acc: 0.0778\n",
      "\n",
      "Epoch 00008: val_loss did not improve from 4.27583\n",
      "Epoch 9/30\n",
      "8177/8177 [==============================] - 1s 112us/step - loss: 4.3490 - acc: 0.0481 - val_loss: 4.3026 - val_acc: 0.0753\n",
      "\n",
      "Epoch 00009: val_loss did not improve from 4.27583\n",
      "Epoch 10/30\n",
      "8177/8177 [==============================] - 1s 118us/step - loss: 4.3399 - acc: 0.0495 - val_loss: 4.2550 - val_acc: 0.0787\n",
      "\n",
      "Epoch 00010: val_loss improved from 4.27583 to 4.25495, saving model to saved_models/handprocess_bestmodel.hdf5\n",
      "Epoch 11/30\n",
      "8177/8177 [==============================] - 1s 112us/step - loss: 4.3285 - acc: 0.0460 - val_loss: 4.2766 - val_acc: 0.0773\n",
      "\n",
      "Epoch 00011: val_loss did not improve from 4.25495\n",
      "Epoch 12/30\n",
      "8177/8177 [==============================] - 1s 114us/step - loss: 4.3199 - acc: 0.0514 - val_loss: 4.2705 - val_acc: 0.0866\n",
      "\n",
      "Epoch 00012: val_loss did not improve from 4.25495\n",
      "Epoch 13/30\n",
      "8177/8177 [==============================] - 1s 115us/step - loss: 4.3004 - acc: 0.0510 - val_loss: 4.2713 - val_acc: 0.0822\n",
      "\n",
      "Epoch 00013: val_loss did not improve from 4.25495\n",
      "Epoch 14/30\n",
      "8177/8177 [==============================] - 1s 109us/step - loss: 4.3139 - acc: 0.0493 - val_loss: 4.2713 - val_acc: 0.0841\n",
      "\n",
      "Epoch 00014: val_loss did not improve from 4.25495\n",
      "Epoch 15/30\n",
      "8177/8177 [==============================] - 1s 110us/step - loss: 4.3150 - acc: 0.0477 - val_loss: 4.2427 - val_acc: 0.0773\n",
      "\n",
      "Epoch 00015: val_loss improved from 4.25495 to 4.24274, saving model to saved_models/handprocess_bestmodel.hdf5\n",
      "Epoch 16/30\n",
      "8177/8177 [==============================] - 1s 123us/step - loss: 4.3173 - acc: 0.0475 - val_loss: 4.2546 - val_acc: 0.0797\n",
      "\n",
      "Epoch 00016: val_loss did not improve from 4.24274\n",
      "Epoch 17/30\n",
      "8177/8177 [==============================] - 1s 112us/step - loss: 4.2961 - acc: 0.0495 - val_loss: 4.2514 - val_acc: 0.0792\n",
      "\n",
      "Epoch 00017: val_loss did not improve from 4.24274\n",
      "Epoch 18/30\n",
      "8177/8177 [==============================] - 1s 111us/step - loss: 4.3006 - acc: 0.0461 - val_loss: 4.2768 - val_acc: 0.0782\n",
      "\n",
      "Epoch 00018: val_loss did not improve from 4.24274\n",
      "Epoch 19/30\n",
      "8177/8177 [==============================] - 1s 120us/step - loss: 4.2865 - acc: 0.0504 - val_loss: 4.2772 - val_acc: 0.0738\n",
      "\n",
      "Epoch 00019: val_loss did not improve from 4.24274\n",
      "Epoch 20/30\n",
      "8177/8177 [==============================] - 1s 120us/step - loss: 4.2871 - acc: 0.0537 - val_loss: 4.2731 - val_acc: 0.0807\n",
      "\n",
      "Epoch 00020: val_loss did not improve from 4.24274\n",
      "Epoch 21/30\n",
      "8177/8177 [==============================] - 1s 121us/step - loss: 4.2807 - acc: 0.0520 - val_loss: 4.2500 - val_acc: 0.0807\n",
      "\n",
      "Epoch 00021: val_loss did not improve from 4.24274\n",
      "Epoch 22/30\n",
      "8177/8177 [==============================] - 1s 122us/step - loss: 4.2899 - acc: 0.0494 - val_loss: 4.2535 - val_acc: 0.0802\n",
      "\n",
      "Epoch 00022: val_loss did not improve from 4.24274\n",
      "Epoch 23/30\n",
      "8177/8177 [==============================] - 1s 115us/step - loss: 4.2762 - acc: 0.0506 - val_loss: 4.3176 - val_acc: 0.0875\n",
      "\n",
      "Epoch 00023: val_loss did not improve from 4.24274\n",
      "Epoch 24/30\n",
      "8177/8177 [==============================] - 1s 117us/step - loss: 4.2806 - acc: 0.0483 - val_loss: 4.2868 - val_acc: 0.0846\n",
      "\n",
      "Epoch 00024: val_loss did not improve from 4.24274\n",
      "Epoch 25/30\n",
      "8177/8177 [==============================] - 1s 114us/step - loss: 4.2982 - acc: 0.0466 - val_loss: 4.2577 - val_acc: 0.0812\n",
      "\n",
      "Epoch 00025: val_loss did not improve from 4.24274\n",
      "Epoch 26/30\n",
      "8177/8177 [==============================] - 1s 119us/step - loss: 4.2947 - acc: 0.0517 - val_loss: 4.2329 - val_acc: 0.0802\n",
      "\n",
      "Epoch 00026: val_loss improved from 4.24274 to 4.23286, saving model to saved_models/handprocess_bestmodel.hdf5\n",
      "Epoch 27/30\n",
      "8177/8177 [==============================] - 1s 117us/step - loss: 4.2827 - acc: 0.0536 - val_loss: 4.2336 - val_acc: 0.0753\n",
      "\n",
      "Epoch 00027: val_loss did not improve from 4.23286\n",
      "Epoch 28/30\n",
      "8177/8177 [==============================] - 1s 116us/step - loss: 4.2681 - acc: 0.0526 - val_loss: 4.2940 - val_acc: 0.0812\n",
      "\n",
      "Epoch 00028: val_loss did not improve from 4.23286\n",
      "Epoch 29/30\n",
      "8177/8177 [==============================] - 1s 117us/step - loss: 4.2637 - acc: 0.0519 - val_loss: 4.2838 - val_acc: 0.0797\n",
      "\n",
      "Epoch 00029: val_loss did not improve from 4.23286\n",
      "Epoch 30/30\n",
      "8177/8177 [==============================] - 1s 123us/step - loss: 4.2695 - acc: 0.0486 - val_loss: 4.2555 - val_acc: 0.0802\n",
      "\n",
      "Epoch 00030: val_loss did not improve from 4.23286\n"
     ]
    }
   ],
   "source": [
    "\n",
    "batch_size = 64\n",
    "epochs = 30\n",
    "# optimizer = SGD(lr = 0.0001, momentum = 0.9)\n",
    "optimizer = 'adam'\n",
    "# optimizer = RMSprop(lr = 0.0001, decay = 1e-6)\n",
    "\n",
    "new_model.compile(optimizer = optimizer, loss = 'categorical_crossentropy', metrics = ['accuracy'])\n",
    "\n",
    "checkpointer = ModelCheckpoint(filepath = 'saved_models/handprocess_bestmodel.hdf5', verbose = 1, save_best_only = True)\n",
    "\n",
    "# model fitting without data augmentation \n",
    "history = new_model.fit(feature_train, y_train, batch_size = batch_size, \n",
    "                        epochs = epochs, validation_data = (feature_test, y_test),\n",
    "                       callbacks = [checkpointer])\n"
   ]
  },
  {
   "cell_type": "code",
   "execution_count": 58,
   "metadata": {},
   "outputs": [
    {
     "name": "stdout",
     "output_type": "stream",
     "text": [
      "Test accuracy: 8.0196%\n"
     ]
    }
   ],
   "source": [
    "# load the best model and check testing accuracy\n",
    "\n",
    "new_model.load_weights('saved_models/handprocess_bestmodel.hdf5')\n",
    "\n",
    "### Calculate classification accuracy on the test dataset.\n",
    "newmodel_pred = [np.argmax(new_model.predict(np.expand_dims(feature, axis = 0))) for feature in feature_test]\n",
    "\n",
    "# Report test accuracy\n",
    "test_accuracy = 100* np.sum(np.array(newmodel_pred) == np.argmax(y_test, axis = 1))/len(newmodel_pred)\n",
    "print('Test accuracy: %.4f%%' % test_accuracy)\n"
   ]
  },
  {
   "cell_type": "code",
   "execution_count": null,
   "metadata": {},
   "outputs": [],
   "source": []
  },
  {
   "cell_type": "code",
   "execution_count": null,
   "metadata": {},
   "outputs": [],
   "source": []
  }
 ],
 "metadata": {
  "kernelspec": {
   "display_name": "Python 3",
   "language": "python",
   "name": "python3"
  },
  "language_info": {
   "codemirror_mode": {
    "name": "ipython",
    "version": 3
   },
   "file_extension": ".py",
   "mimetype": "text/x-python",
   "name": "python",
   "nbconvert_exporter": "python",
   "pygments_lexer": "ipython3",
   "version": "3.6.5"
  }
 },
 "nbformat": 4,
 "nbformat_minor": 2
}
