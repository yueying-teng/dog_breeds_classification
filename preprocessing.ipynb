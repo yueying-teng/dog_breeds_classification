{
 "cells": [
  {
   "cell_type": "code",
   "execution_count": 349,
   "metadata": {},
   "outputs": [],
   "source": [
    "import os \n",
    "import pandas as pd \n",
    "import numpy as np\n",
    "from PIL import Image\n",
    "from skimage.transform import resize\n",
    "\n",
    "import matplotlib.pyplot as plt\n",
    "%matplotlib inline\n",
    "\n",
    "import keras \n",
    "from keras.applications.vgg16 import VGG16\n"
   ]
  },
  {
   "cell_type": "markdown",
   "metadata": {},
   "source": [
    "### train_test_split the training dataset provided by kaggle"
   ]
  },
  {
   "cell_type": "code",
   "execution_count": 34,
   "metadata": {},
   "outputs": [
    {
     "name": "stdout",
     "output_type": "stream",
     "text": [
      "(10222, 2)\n"
     ]
    },
    {
     "data": {
      "text/html": [
       "<div>\n",
       "<style scoped>\n",
       "    .dataframe tbody tr th:only-of-type {\n",
       "        vertical-align: middle;\n",
       "    }\n",
       "\n",
       "    .dataframe tbody tr th {\n",
       "        vertical-align: top;\n",
       "    }\n",
       "\n",
       "    .dataframe thead th {\n",
       "        text-align: right;\n",
       "    }\n",
       "</style>\n",
       "<table border=\"1\" class=\"dataframe\">\n",
       "  <thead>\n",
       "    <tr style=\"text-align: right;\">\n",
       "      <th></th>\n",
       "      <th>id</th>\n",
       "      <th>breed</th>\n",
       "    </tr>\n",
       "  </thead>\n",
       "  <tbody>\n",
       "    <tr>\n",
       "      <th>0</th>\n",
       "      <td>000bec180eb18c7604dcecc8fe0dba07</td>\n",
       "      <td>boston_bull</td>\n",
       "    </tr>\n",
       "    <tr>\n",
       "      <th>1</th>\n",
       "      <td>001513dfcb2ffafc82cccf4d8bbaba97</td>\n",
       "      <td>dingo</td>\n",
       "    </tr>\n",
       "    <tr>\n",
       "      <th>2</th>\n",
       "      <td>001cdf01b096e06d78e9e5112d419397</td>\n",
       "      <td>pekinese</td>\n",
       "    </tr>\n",
       "    <tr>\n",
       "      <th>3</th>\n",
       "      <td>00214f311d5d2247d5dfe4fe24b2303d</td>\n",
       "      <td>bluetick</td>\n",
       "    </tr>\n",
       "    <tr>\n",
       "      <th>4</th>\n",
       "      <td>0021f9ceb3235effd7fcde7f7538ed62</td>\n",
       "      <td>golden_retriever</td>\n",
       "    </tr>\n",
       "  </tbody>\n",
       "</table>\n",
       "</div>"
      ],
      "text/plain": [
       "                                 id             breed\n",
       "0  000bec180eb18c7604dcecc8fe0dba07       boston_bull\n",
       "1  001513dfcb2ffafc82cccf4d8bbaba97             dingo\n",
       "2  001cdf01b096e06d78e9e5112d419397          pekinese\n",
       "3  00214f311d5d2247d5dfe4fe24b2303d          bluetick\n",
       "4  0021f9ceb3235effd7fcde7f7538ed62  golden_retriever"
      ]
     },
     "execution_count": 34,
     "metadata": {},
     "output_type": "execute_result"
    }
   ],
   "source": [
    "data_dir = '/Users/yueying.teng/Documents/dog_breeds'\n",
    "label_csv_path = os.path.join(data_dir, './data/labels.csv')\n",
    "\n",
    "df = pd.read_csv(label_csv_path)\n",
    "\n",
    "print(df.shape)\n",
    "\n",
    "df.head()"
   ]
  },
  {
   "cell_type": "code",
   "execution_count": 35,
   "metadata": {},
   "outputs": [
    {
     "name": "stdout",
     "output_type": "stream",
     "text": [
      "8177 2045\n"
     ]
    }
   ],
   "source": [
    "\n",
    "# split each id into a group in a list\n",
    "gb = df.groupby('id')\n",
    "\n",
    "grouped_list = [gb.get_group(x) for x in gb.groups]\n",
    "\n",
    "# split ids into train and test groups \n",
    "train_index = np.random.choice(len(grouped_list), size = int(df.shape[0] * 0.8), replace = False)\n",
    "# use np.setdiff1d for the difference of two arrays to get test index\n",
    "test_index = np.setdiff1d(list(range(df.shape[0])), train_index)\n",
    "\n",
    "print(len(train_index), len(test_index))                          \n",
    "                          "
   ]
  },
  {
   "cell_type": "code",
   "execution_count": 79,
   "metadata": {},
   "outputs": [
    {
     "data": {
      "text/html": [
       "<div>\n",
       "<style scoped>\n",
       "    .dataframe tbody tr th:only-of-type {\n",
       "        vertical-align: middle;\n",
       "    }\n",
       "\n",
       "    .dataframe tbody tr th {\n",
       "        vertical-align: top;\n",
       "    }\n",
       "\n",
       "    .dataframe thead th {\n",
       "        text-align: right;\n",
       "    }\n",
       "</style>\n",
       "<table border=\"1\" class=\"dataframe\">\n",
       "  <thead>\n",
       "    <tr style=\"text-align: right;\">\n",
       "      <th></th>\n",
       "      <th>id</th>\n",
       "      <th>breed</th>\n",
       "    </tr>\n",
       "  </thead>\n",
       "  <tbody>\n",
       "    <tr>\n",
       "      <th>0</th>\n",
       "      <td>000bec180eb18c7604dcecc8fe0dba07</td>\n",
       "      <td>boston_bull</td>\n",
       "    </tr>\n",
       "  </tbody>\n",
       "</table>\n",
       "</div>"
      ],
      "text/plain": [
       "                                 id        breed\n",
       "0  000bec180eb18c7604dcecc8fe0dba07  boston_bull"
      ]
     },
     "execution_count": 79,
     "metadata": {},
     "output_type": "execute_result"
    }
   ],
   "source": [
    "grouped_list[0]"
   ]
  },
  {
   "cell_type": "code",
   "execution_count": 36,
   "metadata": {},
   "outputs": [],
   "source": [
    "# group dataset using the index from before \n",
    "train = pd.concat([grouped_list[i]for i in train_index])\n",
    "test = pd.concat([grouped_list[i] for i in test_index])\n",
    "\n",
    "# save the splitted the train test csv \n",
    "train.to_csv('./data/train_labels.csv', index=None)\n",
    "test.to_csv('./data/test_labels.csv', index=None)\n"
   ]
  },
  {
   "cell_type": "code",
   "execution_count": null,
   "metadata": {},
   "outputs": [],
   "source": []
  },
  {
   "cell_type": "markdown",
   "metadata": {},
   "source": [
    "### create subfolders for each breed"
   ]
  },
  {
   "cell_type": "code",
   "execution_count": 38,
   "metadata": {},
   "outputs": [],
   "source": [
    "# train and test labels and ids\n",
    "train = pd.read_csv('./data/train_labels.csv')\n",
    "test = pd.read_csv('./data/test_labels.csv')     \n",
    "                    \n",
    "img_dir = os.path.join(data_dir, 'image')\n"
   ]
  },
  {
   "cell_type": "code",
   "execution_count": 39,
   "metadata": {},
   "outputs": [],
   "source": [
    "\n",
    "# create subdfolders of breeds name and put correspounding images in \n",
    "path = 'train'\n",
    "\n",
    "for i, (fname, breed) in train.iterrows():\n",
    "    breed_img_dir = '%s/%s' % (path, breed)\n",
    "    if not os.path.exists(breed_img_dir):\n",
    "        os.makedirs(breed_img_dir)\n",
    "        \n",
    "    os.symlink('%s/%s.jpg' % (img_dir, fname), '%s/%s.jpg' % (breed_img_dir, fname))\n",
    "    \n",
    "    "
   ]
  },
  {
   "cell_type": "code",
   "execution_count": 40,
   "metadata": {},
   "outputs": [],
   "source": [
    "# same for testing data \n",
    "\n",
    "# create subdfolders of breeds name and put correspounding images in \n",
    "path = 'test'\n",
    "\n",
    "for i, (fname, breed) in test.iterrows():\n",
    "    breed_img_dir = '%s/%s' % (path, breed)\n",
    "    if not os.path.exists(breed_img_dir):\n",
    "        os.makedirs(breed_img_dir)\n",
    "        \n",
    "    os.symlink('%s/%s.jpg' % (img_dir, fname), '%s/%s.jpg' % (breed_img_dir, fname))\n",
    "    \n",
    "    "
   ]
  },
  {
   "cell_type": "code",
   "execution_count": null,
   "metadata": {},
   "outputs": [],
   "source": []
  },
  {
   "cell_type": "markdown",
   "metadata": {},
   "source": [
    "### EDA"
   ]
  },
  {
   "cell_type": "code",
   "execution_count": 50,
   "metadata": {},
   "outputs": [],
   "source": [
    "# check if all the calsses in training set are balanced \n",
    "\n",
    "# training, testing data directory \n",
    "train_img_dir = os.path.join(data_dir, 'train')\n",
    "test_img_dir = os.path.join(data_dir, 'test')\n",
    "train_folders = os.listdir(train_img_dir)\n",
    "\n",
    "num_sample = []\n",
    "for i in train_folders:\n",
    "    if i not in '.DS_Store':\n",
    "        subfolder = os.path.join(data_dir,'train', i)\n",
    "        files = os.listdir(subfolder)\n",
    "        num_sample.append(len(files))\n"
   ]
  },
  {
   "cell_type": "code",
   "execution_count": 55,
   "metadata": {},
   "outputs": [
    {
     "data": {
      "text/plain": [
       "[<matplotlib.lines.Line2D at 0x102a45470>]"
      ]
     },
     "execution_count": 55,
     "metadata": {},
     "output_type": "execute_result"
    },
    {
     "data": {
      "image/png": "[encoded data removed]",
      "text/plain": [
       "<Figure size 432x288 with 1 Axes>"
      ]
     },
     "metadata": {},
     "output_type": "display_data"
    }
   ],
   "source": [
    "plt.plot(num_sample)"
   ]
  },
  {
   "cell_type": "code",
   "execution_count": 65,
   "metadata": {},
   "outputs": [],
   "source": [
    "# image size inspection \n",
    "\n",
    "img_size = {}\n",
    "for i in folders:\n",
    "    if i not in '.DS_Store':\n",
    "        subfolder = os.path.join(data_dir,'train', i)\n",
    "        files = os.listdir(subfolder)\n",
    "        for j in files:\n",
    "            if j not in '.DS_Store':\n",
    "                img = Image.open(os.path.join(data_dir,'train', i, j))\n",
    "                width, height = img.size \n",
    "                img_size.setdefault(j, []).append((width, height))\n",
    "    "
   ]
  },
  {
   "cell_type": "code",
   "execution_count": 71,
   "metadata": {},
   "outputs": [],
   "source": [
    "keys = list(img_size.keys())\n",
    "\n",
    "x = []\n",
    "y = []\n",
    "for i in range(len(keys)):\n",
    "    x.append(img_size[keys[i]][0][0])\n",
    "    y.append(img_size[keys[i]][0][1])"
   ]
  },
  {
   "cell_type": "code",
   "execution_count": 298,
   "metadata": {},
   "outputs": [
    {
     "data": {
      "text/plain": [
       "<matplotlib.collections.PathCollection at 0xb575faac8>"
      ]
     },
     "execution_count": 298,
     "metadata": {},
     "output_type": "execute_result"
    },
    {
     "data": {
      "image/png": "[encoded data removed]",
      "text/plain": [
       "<Figure size 576x360 with 1 Axes>"
      ]
     },
     "metadata": {},
     "output_type": "display_data"
    }
   ],
   "source": [
    "plt.figure(figsize = (8, 5))\n",
    "plt.scatter(x, y, alpha = 0.7)\n",
    "plt.scatter(224, 224, color = 'red')\n"
   ]
  },
  {
   "cell_type": "code",
   "execution_count": 76,
   "metadata": {},
   "outputs": [
    {
     "name": "stdout",
     "output_type": "stream",
     "text": [
      "97 102\n"
     ]
    }
   ],
   "source": [
    "print (min(x), min(y))"
   ]
  },
  {
   "cell_type": "markdown",
   "metadata": {},
   "source": [
    "### image preprocessing for VGG transfer leanring \n",
    "\n",
    "1. decode the images from jpg to array\n",
    "2. resize the images to (224, 224), while keeping the original aspect ratio\n",
    "3. subtract the color channel mean used in the original VGG training \n",
    "\n",
    "the above steps have to be done for both training and testing images "
   ]
  },
  {
   "cell_type": "code",
   "execution_count": 77,
   "metadata": {},
   "outputs": [
    {
     "name": "stderr",
     "output_type": "stream",
     "text": [
      "Using TensorFlow backend.\n"
     ]
    }
   ],
   "source": [
    "from keras.preprocessing import image\n"
   ]
  },
  {
   "cell_type": "code",
   "execution_count": 88,
   "metadata": {},
   "outputs": [],
   "source": [
    "def list_dir(directory):\n",
    "    \"\"\"\n",
    "    get all images and labels in directory/label/*.jpg\n",
    "    \"\"\"\n",
    "    \n",
    "    labels = os.listdir(directory)\n",
    "    # sort the labels so that training and testing get them in the same order\n",
    "    labels.sort()\n",
    "    \n",
    "    files_and_labels = []\n",
    "    for label in labels:\n",
    "        if label not in '.DS_Store':\n",
    "            for f in os.listdir(os.path.join(directory, label)):\n",
    "                files_and_labels.append((os.path.join(directory, label, f), label))\n",
    "\n",
    "    filenames, labels = zip(*files_and_labels)\n",
    "    filenames = list(filenames)\n",
    "    labels = list(labels)\n",
    "    unique_labels = list(set(labels))\n",
    "    \n",
    "    label_to_int = {}\n",
    "    for i, label in enumerate(unique_labels):\n",
    "        label_to_int[label] = i\n",
    "    \n",
    "    labels = [label_to_int[l] for l in labels]\n",
    "    \n",
    "    return filenames, labels\n"
   ]
  },
  {
   "cell_type": "code",
   "execution_count": 343,
   "metadata": {},
   "outputs": [],
   "source": [
    "def img_process(filenames):\n",
    "    \"\"\"\n",
    "    image preprocessing for VGG transfer learning\n",
    "    1. resize image so that the short side has minimal length, while keeping the aspect ratio;\n",
    "    fill the boarder with zero paddings to create image of size (224, 224, 3)\n",
    "    2. convert jpg to array\n",
    "    3. subtract the mean used in the original VGG training \n",
    "    \"\"\"\n",
    "    \n",
    "    longest = 224 # for resizing\n",
    "    \n",
    "    img_list = [] # to store processed images\n",
    "    \n",
    "    for i in range(len(filenames)):\n",
    "\n",
    "        img = image.load_img(filenames[i])\n",
    "        \n",
    "        # resize and padding \n",
    "        # find the proportion from the longer side to make sure the longest side is 224\n",
    "        if img.size[0] >=img.size[1]:\n",
    "            percent = (longest/float(img.size[0]))\n",
    "            hsize = int((float(img.size[1])*float(percent)))\n",
    "            re_img = img.resize((longest,hsize), PIL.Image.ANTIALIAS)\n",
    "        else:\n",
    "            percent = (longest/float(img.size[1]))\n",
    "            hsize = int((float(img.size[0])*float(percent)))\n",
    "            re_img = img.resize((hsize, longest), PIL.Image.ANTIALIAS)\n",
    "        \n",
    "        # add zero padding \n",
    "        old_size = re_img.size\n",
    "\n",
    "        new_size = (224, 224)\n",
    "        new_img = Image.new('RGB', new_size, (255, 255, 255))\n",
    "        new_img.paste(re_img, ((new_size[0] - old_size[0])//2, (new_size[1] - old_size[1])//2))\n",
    "        \n",
    "        # covert to array\n",
    "        img_arr = image.img_to_array(new_img)\n",
    " \n",
    "        # mean subtraction - R: 123.68, G: 116.78, B: 103.94 \n",
    "        img_arr[:, :, 0] -= 123.68\n",
    "        img_arr[:, :, 1] -= 116.78\n",
    "        img_arr[:, :, 2] -= 103.94 \n",
    "        \n",
    "        img_list.append(img_arr)\n",
    "         \n",
    "    # convert the processed list of images to array and return as function output\n",
    "    img_output_arr = np.array(img_list)\n",
    "    \n",
    "    return img_output_arr\n"
   ]
  },
  {
   "cell_type": "code",
   "execution_count": 351,
   "metadata": {},
   "outputs": [],
   "source": [
    "# pre process both train and test images\n",
    "\n",
    "file_train, label_train = list_dir('/Users/yueying.teng/Documents/dog_breeds/train')\n",
    "x_train = img_process(file_train)\n",
    "\n",
    "file_test, label_test = list_dir('/Users/yueying.teng/Documents/dog_breeds/test')\n",
    "x_test = img_process(file_test)\n"
   ]
  },
  {
   "cell_type": "code",
   "execution_count": 354,
   "metadata": {
    "scrolled": true
   },
   "outputs": [
    {
     "name": "stderr",
     "output_type": "stream",
     "text": [
      "Clipping input data to the valid range for imshow with RGB data ([0..1] for floats or [0..255] for integers).\n"
     ]
    },
    {
     "data": {
      "text/plain": [
       "<matplotlib.image.AxesImage at 0xb58e4c3c8>"
      ]
     },
     "execution_count": 354,
     "metadata": {},
     "output_type": "execute_result"
    },
    {
     "data": {
      "image/png": "[encoded data removed]",
      "text/plain": [
       "<Figure size 432x288 with 1 Axes>"
      ]
     },
     "metadata": {},
     "output_type": "display_data"
    }
   ],
   "source": [
    "# show one image after pre processing\n",
    "plt.imshow(x_train[150])"
   ]
  },
  {
   "cell_type": "code",
   "execution_count": null,
   "metadata": {},
   "outputs": [],
   "source": []
  },
  {
   "cell_type": "code",
   "execution_count": null,
   "metadata": {},
   "outputs": [],
   "source": []
  },
  {
   "cell_type": "markdown",
   "metadata": {},
   "source": [
    "### bottleneck feature extraction"
   ]
  },
  {
   "cell_type": "code",
   "execution_count": 350,
   "metadata": {},
   "outputs": [
    {
     "name": "stdout",
     "output_type": "stream",
     "text": [
      "Downloading data from https://github.com/fchollet/deep-learning-models/releases/download/v0.1/vgg16_weights_tf_dim_ordering_tf_kernels_notop.h5\n",
      "58892288/58889256 [==============================] - 43s 1us/step\n",
      "_________________________________________________________________\n",
      "Layer (type)                 Output Shape              Param #   \n",
      "=================================================================\n",
      "input_1 (InputLayer)         (None, None, None, 3)     0         \n",
      "_________________________________________________________________\n",
      "block1_conv1 (Conv2D)        (None, None, None, 64)    1792      \n",
      "_________________________________________________________________\n",
      "block1_conv2 (Conv2D)        (None, None, None, 64)    36928     \n",
      "_________________________________________________________________\n",
      "block1_pool (MaxPooling2D)   (None, None, None, 64)    0         \n",
      "_________________________________________________________________\n",
      "block2_conv1 (Conv2D)        (None, None, None, 128)   73856     \n",
      "_________________________________________________________________\n",
      "block2_conv2 (Conv2D)        (None, None, None, 128)   147584    \n",
      "_________________________________________________________________\n",
      "block2_pool (MaxPooling2D)   (None, None, None, 128)   0         \n",
      "_________________________________________________________________\n",
      "block3_conv1 (Conv2D)        (None, None, None, 256)   295168    \n",
      "_________________________________________________________________\n",
      "block3_conv2 (Conv2D)        (None, None, None, 256)   590080    \n",
      "_________________________________________________________________\n",
      "block3_conv3 (Conv2D)        (None, None, None, 256)   590080    \n",
      "_________________________________________________________________\n",
      "block3_pool (MaxPooling2D)   (None, None, None, 256)   0         \n",
      "_________________________________________________________________\n",
      "block4_conv1 (Conv2D)        (None, None, None, 512)   1180160   \n",
      "_________________________________________________________________\n",
      "block4_conv2 (Conv2D)        (None, None, None, 512)   2359808   \n",
      "_________________________________________________________________\n",
      "block4_conv3 (Conv2D)        (None, None, None, 512)   2359808   \n",
      "_________________________________________________________________\n",
      "block4_pool (MaxPooling2D)   (None, None, None, 512)   0         \n",
      "_________________________________________________________________\n",
      "block5_conv1 (Conv2D)        (None, None, None, 512)   2359808   \n",
      "_________________________________________________________________\n",
      "block5_conv2 (Conv2D)        (None, None, None, 512)   2359808   \n",
      "_________________________________________________________________\n",
      "block5_conv3 (Conv2D)        (None, None, None, 512)   2359808   \n",
      "_________________________________________________________________\n",
      "block5_pool (MaxPooling2D)   (None, None, None, 512)   0         \n",
      "=================================================================\n",
      "Total params: 14,714,688\n",
      "Trainable params: 14,714,688\n",
      "Non-trainable params: 0\n",
      "_________________________________________________________________\n"
     ]
    }
   ],
   "source": [
    "# load pretrained VGG16\n",
    "\n",
    "model = VGG16(weights = 'imagenet', include_top = False)\n",
    "model.summary()"
   ]
  },
  {
   "cell_type": "code",
   "execution_count": null,
   "metadata": {},
   "outputs": [],
   "source": [
    "%%time\n",
    "\n",
    "# extract bottleneck feature\n",
    "\n",
    "feature_train = model.predict(x_train)\n",
    "feature_test = model.predict(x_test)\n",
    "\n",
    "np.save('bnf_train.npy', feature_train)\n",
    "np.save('bnf_test.npy', feature_test)\n"
   ]
  },
  {
   "cell_type": "code",
   "execution_count": null,
   "metadata": {},
   "outputs": [],
   "source": []
  }
 ],
 "metadata": {
  "kernelspec": {
   "display_name": "Python 3",
   "language": "python",
   "name": "python3"
  },
  "language_info": {
   "codemirror_mode": {
    "name": "ipython",
    "version": 3
   },
   "file_extension": ".py",
   "mimetype": "text/x-python",
   "name": "python",
   "nbconvert_exporter": "python",
   "pygments_lexer": "ipython3",
   "version": "3.6.5"
  }
 },
 "nbformat": 4,
 "nbformat_minor": 2
}
