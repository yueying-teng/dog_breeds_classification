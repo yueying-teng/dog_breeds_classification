{
 "cells": [
  {
   "cell_type": "code",
   "execution_count": 17,
   "metadata": {
    "collapsed": true
   },
   "outputs": [],
   "source": [
    "import pandas as pd \n",
    "import numpy as np\n",
    "import os\n",
    "import random\n",
    "import shutil\n"
   ]
  },
  {
   "cell_type": "code",
   "execution_count": 19,
   "metadata": {},
   "outputs": [
    {
     "name": "stdout",
     "output_type": "stream",
     "text": [
      "(10222, 2)\n"
     ]
    },
    {
     "data": {
      "text/html": [
       "<div>\n",
       "<style>\n",
       "    .dataframe thead tr:only-child th {\n",
       "        text-align: right;\n",
       "    }\n",
       "\n",
       "    .dataframe thead th {\n",
       "        text-align: left;\n",
       "    }\n",
       "\n",
       "    .dataframe tbody tr th {\n",
       "        vertical-align: top;\n",
       "    }\n",
       "</style>\n",
       "<table border=\"1\" class=\"dataframe\">\n",
       "  <thead>\n",
       "    <tr style=\"text-align: right;\">\n",
       "      <th></th>\n",
       "      <th>id</th>\n",
       "      <th>breed</th>\n",
       "    </tr>\n",
       "  </thead>\n",
       "  <tbody>\n",
       "    <tr>\n",
       "      <th>0</th>\n",
       "      <td>000bec180eb18c7604dcecc8fe0dba07</td>\n",
       "      <td>boston_bull</td>\n",
       "    </tr>\n",
       "    <tr>\n",
       "      <th>1</th>\n",
       "      <td>001513dfcb2ffafc82cccf4d8bbaba97</td>\n",
       "      <td>dingo</td>\n",
       "    </tr>\n",
       "    <tr>\n",
       "      <th>2</th>\n",
       "      <td>001cdf01b096e06d78e9e5112d419397</td>\n",
       "      <td>pekinese</td>\n",
       "    </tr>\n",
       "    <tr>\n",
       "      <th>3</th>\n",
       "      <td>00214f311d5d2247d5dfe4fe24b2303d</td>\n",
       "      <td>bluetick</td>\n",
       "    </tr>\n",
       "    <tr>\n",
       "      <th>4</th>\n",
       "      <td>0021f9ceb3235effd7fcde7f7538ed62</td>\n",
       "      <td>golden_retriever</td>\n",
       "    </tr>\n",
       "  </tbody>\n",
       "</table>\n",
       "</div>"
      ],
      "text/plain": [
       "                                 id             breed\n",
       "0  000bec180eb18c7604dcecc8fe0dba07       boston_bull\n",
       "1  001513dfcb2ffafc82cccf4d8bbaba97             dingo\n",
       "2  001cdf01b096e06d78e9e5112d419397          pekinese\n",
       "3  00214f311d5d2247d5dfe4fe24b2303d          bluetick\n",
       "4  0021f9ceb3235effd7fcde7f7538ed62  golden_retriever"
      ]
     },
     "execution_count": 19,
     "metadata": {},
     "output_type": "execute_result"
    }
   ],
   "source": [
    "data_dir = '/Users/yueyingteng/Documents/dog_breeds'\n",
    "img_dir = '/Users/yueyingteng/Documents/dog_breeds/kaggle_data'\n",
    "label_csv_path = os.path.join(data_dir, './labels.csv')\n",
    "\n",
    "df = pd.read_csv(label_csv_path)\n",
    "\n",
    "print(df.shape)\n",
    "\n",
    "df.head()"
   ]
  },
  {
   "cell_type": "code",
   "execution_count": 20,
   "metadata": {},
   "outputs": [],
   "source": [
    "# create subfolder for each breed\n",
    "\n",
    "# create subdfolders of breeds name and put correspounding images in \n",
    "path = 'data'\n",
    "\n",
    "for i, (fname, breed) in df.iterrows():\n",
    "    breed_img_dir = '%s/%s' % (path, breed)\n",
    "    if not os.path.exists(breed_img_dir):\n",
    "        os.makedirs(breed_img_dir)\n",
    "        \n",
    "    shutil.copy('%s/%s.jpg' % (img_dir, fname), '%s/%s.jpg' % (breed_img_dir, fname))\n",
    "    "
   ]
  },
  {
   "cell_type": "code",
   "execution_count": 69,
   "metadata": {},
   "outputs": [],
   "source": [
    "# data folder has breeds in subfolders - extract 90% of the data from each folder as train data, and the rest as test data \n",
    "\n",
    "files = os.listdir(data_dir + '/data')\n",
    "\n",
    "train_path = 'train'\n",
    "test_path = 'test'\n",
    "\n",
    "for i in range(len(files)):\n",
    "    if files[i] not in '.DS_Store':\n",
    "        # kaggle_data is the folder without breeds in sub folders \n",
    "        file_list = [data_dir + '/kaggle_data/' + j for j in os.listdir(data_dir + '/data/' + files[i])]\n",
    "        train_list = random.sample(file_list, int(len(file_list)* 0.9))\n",
    "        for k in range(len(train_list)):\n",
    "            # copy(src, dst)\n",
    "            shutil.copy(train_list[k], train_list[k].replace('kaggle_data', train_path))\n",
    "            \n",
    "        test_list = [i for i in file_list if i not in train_list]\n",
    "        for j in range(len(test_list)):\n",
    "            shutil.copy(test_list[j], test_list[j].replace('kaggle_data', test_path))\n",
    "            "
   ]
  },
  {
   "cell_type": "code",
   "execution_count": null,
   "metadata": {},
   "outputs": [],
   "source": []
  },
  {
   "cell_type": "code",
   "execution_count": 116,
   "metadata": {},
   "outputs": [],
   "source": [
    "# create training data label dataframe, similar to the label.csv provided by kaggle\n",
    "\n",
    "files = sorted(os.listdir('./train'))\n",
    "file_id = [files[i][: -4] for i in range(len(files))]\n",
    "\n",
    "train_breed = []\n",
    "for i in range(len(file_id)):\n",
    "    if '.DS_S' not in file_id[i]:\n",
    "        train_breed.append(df.iloc[list(df['id']).index(file_id[i])]['breed'])\n",
    "\n",
    "train_label = pd.DataFrame({'id': files[1:], 'breed': train_breed})\n"
   ]
  },
  {
   "cell_type": "code",
   "execution_count": 129,
   "metadata": {},
   "outputs": [],
   "source": [
    "# create testing data label dataframe \n",
    "\n",
    "files = sorted(os.listdir('./test'))\n",
    "file_id = [files[i][: -4] for i in range(len(files))]\n",
    "\n",
    "test_breed = []\n",
    "for i in range(len(file_id)):\n",
    "    if '.DS_S' not in file_id[i]:\n",
    "        test_breed.append(df.iloc[list(df['id']).index(file_id[i])]['breed'])\n",
    "\n",
    "test_label = pd.DataFrame({'id': files, 'breed': test_breed}, columns = ['breed', 'id'])\n"
   ]
  },
  {
   "cell_type": "code",
   "execution_count": 130,
   "metadata": {},
   "outputs": [
    {
     "data": {
      "text/html": [
       "<div>\n",
       "<style>\n",
       "    .dataframe thead tr:only-child th {\n",
       "        text-align: right;\n",
       "    }\n",
       "\n",
       "    .dataframe thead th {\n",
       "        text-align: left;\n",
       "    }\n",
       "\n",
       "    .dataframe tbody tr th {\n",
       "        vertical-align: top;\n",
       "    }\n",
       "</style>\n",
       "<table border=\"1\" class=\"dataframe\">\n",
       "  <thead>\n",
       "    <tr style=\"text-align: right;\">\n",
       "      <th></th>\n",
       "      <th>breed</th>\n",
       "      <th>id</th>\n",
       "    </tr>\n",
       "  </thead>\n",
       "  <tbody>\n",
       "    <tr>\n",
       "      <th>0</th>\n",
       "      <td>boston_bull</td>\n",
       "      <td>000bec180eb18c7604dcecc8fe0dba07.jpg</td>\n",
       "    </tr>\n",
       "    <tr>\n",
       "      <th>1</th>\n",
       "      <td>dingo</td>\n",
       "      <td>001513dfcb2ffafc82cccf4d8bbaba97.jpg</td>\n",
       "    </tr>\n",
       "    <tr>\n",
       "      <th>2</th>\n",
       "      <td>pekinese</td>\n",
       "      <td>001cdf01b096e06d78e9e5112d419397.jpg</td>\n",
       "    </tr>\n",
       "    <tr>\n",
       "      <th>3</th>\n",
       "      <td>bluetick</td>\n",
       "      <td>00214f311d5d2247d5dfe4fe24b2303d.jpg</td>\n",
       "    </tr>\n",
       "    <tr>\n",
       "      <th>4</th>\n",
       "      <td>golden_retriever</td>\n",
       "      <td>0021f9ceb3235effd7fcde7f7538ed62.jpg</td>\n",
       "    </tr>\n",
       "  </tbody>\n",
       "</table>\n",
       "</div>"
      ],
      "text/plain": [
       "              breed                                    id\n",
       "0       boston_bull  000bec180eb18c7604dcecc8fe0dba07.jpg\n",
       "1             dingo  001513dfcb2ffafc82cccf4d8bbaba97.jpg\n",
       "2          pekinese  001cdf01b096e06d78e9e5112d419397.jpg\n",
       "3          bluetick  00214f311d5d2247d5dfe4fe24b2303d.jpg\n",
       "4  golden_retriever  0021f9ceb3235effd7fcde7f7538ed62.jpg"
      ]
     },
     "execution_count": 130,
     "metadata": {},
     "output_type": "execute_result"
    }
   ],
   "source": [
    "train_label.head()"
   ]
  },
  {
   "cell_type": "code",
   "execution_count": 141,
   "metadata": {
    "scrolled": true
   },
   "outputs": [],
   "source": [
    "# put images in train and test folder into subfolders of breeds\n",
    "\n",
    "path = 'train_final'\n",
    "final_img_dir = './train'\n",
    "\n",
    "for i, (breed, fname) in train_label.iterrows():\n",
    "    breed_img_dir = os.path.join(path, breed)\n",
    "    if not os.path.exists(breed_img_dir):\n",
    "        os.makedirs(breed_img_dir)\n",
    "    # copy(src, dst)    \n",
    "    shutil.copy(os.path.join(final_img_dir, fname), os.path.join(breed_img_dir, fname))\n",
    "    "
   ]
  },
  {
   "cell_type": "code",
   "execution_count": 142,
   "metadata": {},
   "outputs": [],
   "source": [
    "# put images in train and test folder into subfolders of breeds\n",
    "\n",
    "path = 'test_final'\n",
    "final_img_dir = './test'\n",
    "\n",
    "for i, (breed, fname) in test_label.iterrows():\n",
    "    breed_img_dir = os.path.join(path, breed)\n",
    "    if not os.path.exists(breed_img_dir):\n",
    "        os.makedirs(breed_img_dir)\n",
    "    # copy(src, dst)    \n",
    "    shutil.copy(os.path.join(final_img_dir, fname), os.path.join(breed_img_dir, fname))\n",
    "    "
   ]
  },
  {
   "cell_type": "code",
   "execution_count": null,
   "metadata": {
    "collapsed": true
   },
   "outputs": [],
   "source": []
  }
 ],
 "metadata": {
  "kernelspec": {
   "display_name": "Python 3",
   "language": "python",
   "name": "python3"
  },
  "language_info": {
   "codemirror_mode": {
    "name": "ipython",
    "version": 3
   },
   "file_extension": ".py",
   "mimetype": "text/x-python",
   "name": "python",
   "nbconvert_exporter": "python",
   "pygments_lexer": "ipython3",
   "version": "3.5.2"
  }
 },
 "nbformat": 4,
 "nbformat_minor": 2
}
